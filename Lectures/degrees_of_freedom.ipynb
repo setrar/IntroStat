{
 "cells": [
  {
   "cell_type": "markdown",
   "id": "eedb9cf0-500e-412c-bdc9-46a239f863f2",
   "metadata": {},
   "source": [
    "### degrees of freedom (df)"
   ]
  },
  {
   "cell_type": "markdown",
   "id": "42f67ef6-abed-489a-93dc-3b864c56a76c",
   "metadata": {},
   "source": [
    "In statistics, the concept of degrees of freedom (df) refers to the number of values in the final calculation of a statistic that are free to vary. Degrees of freedom are often discussed in the context of various statistical tests or procedures, such as the t-test, chi-square test, or when estimating variances. Here's a simple Julia example that illustrates the concept of degrees of freedom when estimating the sample variance.\n",
    "\n",
    "### Estimating Sample Variance\n",
    "\n",
    "The formula for the unbiased sample variance ($s^2$) of a dataset involves dividing the sum of squared deviations from the mean by $n - 1$, where $n$ is the sample size. The $n - 1$ term represents the degrees of freedom in this context. This correction is necessary because the sample mean itself is estimated from the data, reducing the degrees of freedom by 1.\n",
    "\n",
    "\n"
   ]
  },
  {
   "cell_type": "code",
   "execution_count": 1,
   "id": "bcbd14d5-f222-4818-9c44-6c9aa6f49a02",
   "metadata": {},
   "outputs": [],
   "source": [
    "using Statistics"
   ]
  },
  {
   "cell_type": "code",
   "execution_count": 2,
   "id": "19c3dea5-e805-4cff-aaf3-883c73ad0616",
   "metadata": {},
   "outputs": [
    {
     "ename": "LoadError",
     "evalue": "UndefVarError: `Diff²` not defined",
     "output_type": "error",
     "traceback": [
      "UndefVarError: `Diff²` not defined",
      ""
     ]
    }
   ],
   "source": [
    "∑ = sum;\n",
    "Diff²"
   ]
  },
  {
   "cell_type": "code",
   "execution_count": 3,
   "id": "242c0925-5f4f-4c3c-ae2b-2aa697210dfe",
   "metadata": {},
   "outputs": [
    {
     "name": "stdout",
     "output_type": "stream",
     "text": [
      "Sample Variance: 4.571428571428571\n",
      "Degrees of Freedom: 7\n"
     ]
    }
   ],
   "source": [
    "# Sample data: Randomly generated numbers or any specific data\n",
    "X₀ = [2, 4, 4, 4, 5, 5, 7, 9]\n",
    "\n",
    "# Function to calculate sample variance\n",
    "function sample_variance(Xₙ)\n",
    "    n = length(Xₙ) # Sample size\n",
    "    m̄ = mean(Xₙ) # Sample mean\n",
    "    Diff² = ∑((x - m̄)^2 for x in Xₙ) # Sum of squared deviations\n",
    "    return Diff² / (n - 1) # Divide by n - 1 (degrees of freedom)\n",
    "end\n",
    "\n",
    "# Calculate and print the sample variance\n",
    "variance = sample_variance(X₀)\n",
    "println(\"Sample Variance: $variance\")\n",
    "\n",
    "# Degrees of freedom in this context\n",
    "df = length(X₀) - 1\n",
    "println(\"Degrees of Freedom: $df\")"
   ]
  },
  {
   "cell_type": "markdown",
   "id": "662de074-db16-4f17-8890-9d8ced55653e",
   "metadata": {},
   "source": [
    "In this example:\n",
    "- The `sample_variance` function computes the sample variance of an array of data.\n",
    "- The `$∑((x - m̄)^2 for x in Xₙ)` part calculates the sum of the squared differences between each data point and the sample mean.\n",
    "- We divide by `n - 1` to get the unbiased sample variance, where `n` is the number of observations in the sample. The degrees of freedom (`df`) in this context is `n - 1`, reflecting the fact that after using one degree of freedom to estimate the mean, `n - 1` values are free to vary.\n",
    "\n",
    "This example demonstrates how degrees of freedom are used in the computation of the sample variance, a fundamental concept in many statistical analyses."
   ]
  },
  {
   "cell_type": "code",
   "execution_count": null,
   "id": "7f13d109-98ae-44ac-99e2-e0f7f862fe3d",
   "metadata": {},
   "outputs": [],
   "source": []
  }
 ],
 "metadata": {
  "kernelspec": {
   "display_name": "Julia 1.9.3",
   "language": "julia",
   "name": "julia-1.9"
  },
  "language_info": {
   "file_extension": ".jl",
   "mimetype": "application/julia",
   "name": "julia",
   "version": "1.10.2"
  }
 },
 "nbformat": 4,
 "nbformat_minor": 5
}
